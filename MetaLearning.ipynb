{
 "cells": [
  {
   "cell_type": "markdown",
   "metadata": {
    "slideshow": {
     "slide_type": "slide"
    }
   },
   "source": [
    "# Meta Learning\n",
    "\n",
    "## Seoul AI Meetup, September 16\n",
    "\n",
    "Martin Kersner, <m.kersner@gmail.com>"
   ]
  },
  {
   "cell_type": "markdown",
   "metadata": {},
   "source": [
    "Supervised Learning only"
   ]
  },
  {
   "cell_type": "markdown",
   "metadata": {
    "slideshow": {
     "slide_type": "slide"
    }
   },
   "source": [
    "## Training, Validation and Test Dataset\n",
    "\n",
    "todo"
   ]
  },
  {
   "cell_type": "markdown",
   "metadata": {},
   "source": [
    "## Generalization Error\n",
    "https://en.wikipedia.org/wiki/Generalization_error\n",
    "\n",
    "Generalization error is measure of how accurately an algorithm is able to predict outcome values for previously **unseen data**.\n",
    "\n",
    "\n",
    "Generalization is composed of three parts:\n",
    "\n",
    "* Bias\n",
    "* Variance\n",
    "* **Irreducible Error**"
   ]
  },
  {
   "cell_type": "markdown",
   "metadata": {
    "slideshow": {
     "slide_type": "slide"
    }
   },
   "source": [
    "## Bias, Variance\n",
    "https://en.wikipedia.org/wiki/Bias%E2%80%93variance_tradeoff\n",
    "\n",
    "* Bias\n",
    "  * Error from erroneous assumptions in the learning algorithm.\n",
    "  * Can cause **underfitting**.\n",
    "  \n",
    "\n",
    "* Variance\n",
    "  * Error from sensitivity to small fluctuations in the training set.\n",
    "  * Can cause **overfitting**."
   ]
  },
  {
   "cell_type": "markdown",
   "metadata": {
    "slideshow": {
     "slide_type": "slide"
    }
   },
   "source": [
    "<center>\n",
    "<img src=\"https://qph.ec.quoracdn.net/main-qimg-f9c226fe76f482855b6d46b86c76779a\" style=\"height: 50%; width: 50%\"/>\n",
    "</center>"
   ]
  },
  {
   "cell_type": "markdown",
   "metadata": {
    "slideshow": {
     "slide_type": "slide"
    }
   },
   "source": [
    "## Bias-Variance Tradeoff\n",
    "\n",
    "<center>\n",
    "<img src=\"http://scott.fortmann-roe.com/docs/docs/BiasVariance/biasvariance.png\" style=\"height: 50%; width: 50%\"/>\n",
    "</center>"
   ]
  }
 ],
 "metadata": {
  "celltoolbar": "Slideshow",
  "kernelspec": {
   "display_name": "Python 3",
   "language": "python",
   "name": "python3"
  },
  "language_info": {
   "codemirror_mode": {
    "name": "ipython",
    "version": 3
   },
   "file_extension": ".py",
   "mimetype": "text/x-python",
   "name": "python",
   "nbconvert_exporter": "python",
   "pygments_lexer": "ipython3",
   "version": "3.5.2"
  }
 },
 "nbformat": 4,
 "nbformat_minor": 2
}
